{
 "cells": [
  {
   "cell_type": "markdown",
   "id": "bccc17d9",
   "metadata": {
    "papermill": {
     "duration": 0.00465,
     "end_time": "2023-04-28T04:39:25.951475",
     "exception": false,
     "start_time": "2023-04-28T04:39:25.946825",
     "status": "completed"
    },
    "tags": []
   },
   "source": [
    "### Data Analysis with Pandas\n",
    "\n",
    "**Author**: [Manuch S.](https://github.com/mcsadri)  \n",
    "**Input**: [videogamesales](https://www.kaggle.com/datasets/gregorut/videogamesales): a dataset containing a list of video games with sales greater than 100,000 copies\n",
    "\n",
    "#### Overview\n",
    "\n",
    "An introduction to Data Science via an exploration of the tools to investigate a dataset.\n",
    "\n",
    "#### Feature Tasks and Requirements\n",
    "\n",
    "- [ ] In the vg-stats notebook answer the following questions/do the following tasks. Note that the numbers quoted for sales are in the millions, and apply only for those games with over 10,000 sales.:\n",
    "    - [ ] Which company is the most common video game publisher?\n",
    "    - [ ] What’s the most common platform?\n",
    "    - [ ] What about the most common genre?\n",
    "    - [ ] What are the top 20 highest grossing games?\n",
    "    - [ ] For North American video game sales, what’s the median?\n",
    "        - [ ] Provide a secondary output showing ten games surrounding the median sales output.\n",
    "        - [ ] Assume that games with same median value are sorted in descending order.\n",
    "    - [ ] For the top-selling game of all time, how many standard deviations above/below the mean are its sales for North America?\n",
    "    - [ ] The Nintendo Wii seems to have outdone itself with games. How does its average number of sales compare with all of the other platforms?\n",
    "    - [ ] Come up with 3 more questions that can be answered with this data set.\n",
    "    - [ ] When you’re done answering all of the questions for each data set, clean up your notebooks leaving only cells that contain relevant data and calculations. Then restart and run your notebook so that the cell numbering is sequential from top to bottom.\n",
    "\n",
    "#### UAT\n",
    "\n",
    "No tests are required. But all questions in **Feature Tasks and Requirements** must be clearly answered in your notebook."
   ]
  },
  {
   "cell_type": "code",
   "execution_count": 1,
   "id": "a26bda24",
   "metadata": {
    "_cell_guid": "b1076dfc-b9ad-4769-8c92-a6c4dae69d19",
    "_uuid": "8f2839f25d086af736a60e9eeb907d3b93b6e0e5",
    "execution": {
     "iopub.execute_input": "2023-04-28T04:39:25.961624Z",
     "iopub.status.busy": "2023-04-28T04:39:25.960574Z",
     "iopub.status.idle": "2023-04-28T04:39:25.981784Z",
     "shell.execute_reply": "2023-04-28T04:39:25.980326Z"
    },
    "papermill": {
     "duration": 0.029638,
     "end_time": "2023-04-28T04:39:25.984712",
     "exception": false,
     "start_time": "2023-04-28T04:39:25.955074",
     "status": "completed"
    },
    "tags": []
   },
   "outputs": [
    {
     "name": "stdout",
     "output_type": "stream",
     "text": [
      "/kaggle/input/videogamesales/vgsales.csv\n"
     ]
    }
   ],
   "source": [
    "# This Python 3 environment comes with many helpful analytics libraries installed\n",
    "# It is defined by the kaggle/python Docker image: https://github.com/kaggle/docker-python\n",
    "# For example, here's several helpful packages to load\n",
    "\n",
    "import numpy as np # linear algebra\n",
    "import pandas as pd # data processing, CSV file I/O (e.g. pd.read_csv)\n",
    "\n",
    "# Input data files are available in the read-only \"../input/\" directory\n",
    "# For example, running this (by clicking run or pressing Shift+Enter) will list all files under the input directory\n",
    "\n",
    "import os\n",
    "for dirname, _, filenames in os.walk('/kaggle/input'):\n",
    "    for filename in filenames:\n",
    "        print(os.path.join(dirname, filename))\n",
    "\n",
    "# You can write up to 20GB to the current directory (/kaggle/working/) that gets preserved as output when you create a version using \"Save & Run All\" \n",
    "# You can also write temporary files to /kaggle/temp/, but they won't be saved outside of the current session"
   ]
  },
  {
   "cell_type": "markdown",
   "id": "0f591308",
   "metadata": {
    "papermill": {
     "duration": 0.003307,
     "end_time": "2023-04-28T04:39:25.991759",
     "exception": false,
     "start_time": "2023-04-28T04:39:25.988452",
     "status": "completed"
    },
    "tags": []
   },
   "source": [
    "#### Read data file and get DataFrame information"
   ]
  },
  {
   "cell_type": "code",
   "execution_count": 2,
   "id": "c052f214",
   "metadata": {
    "execution": {
     "iopub.execute_input": "2023-04-28T04:39:26.001442Z",
     "iopub.status.busy": "2023-04-28T04:39:26.000610Z",
     "iopub.status.idle": "2023-04-28T04:39:26.099943Z",
     "shell.execute_reply": "2023-04-28T04:39:26.098492Z"
    },
    "papermill": {
     "duration": 0.107667,
     "end_time": "2023-04-28T04:39:26.103018",
     "exception": false,
     "start_time": "2023-04-28T04:39:25.995351",
     "status": "completed"
    },
    "tags": []
   },
   "outputs": [
    {
     "name": "stdout",
     "output_type": "stream",
     "text": [
      "<class 'pandas.core.frame.DataFrame'>\n",
      "RangeIndex: 16598 entries, 0 to 16597\n",
      "Data columns (total 11 columns):\n",
      " #   Column        Non-Null Count  Dtype  \n",
      "---  ------        --------------  -----  \n",
      " 0   Rank          16598 non-null  int64  \n",
      " 1   Name          16598 non-null  object \n",
      " 2   Platform      16598 non-null  object \n",
      " 3   Year          16327 non-null  float64\n",
      " 4   Genre         16598 non-null  object \n",
      " 5   Publisher     16540 non-null  object \n",
      " 6   NA_Sales      16598 non-null  float64\n",
      " 7   EU_Sales      16598 non-null  float64\n",
      " 8   JP_Sales      16598 non-null  float64\n",
      " 9   Other_Sales   16598 non-null  float64\n",
      " 10  Global_Sales  16598 non-null  float64\n",
      "dtypes: float64(6), int64(1), object(4)\n",
      "memory usage: 1.4+ MB\n"
     ]
    }
   ],
   "source": [
    "df = pd.read_csv('/kaggle/input/videogamesales/vgsales.csv')\n",
    "df.info()"
   ]
  },
  {
   "cell_type": "markdown",
   "id": "18942b86",
   "metadata": {
    "papermill": {
     "duration": 0.003558,
     "end_time": "2023-04-28T04:39:26.110391",
     "exception": false,
     "start_time": "2023-04-28T04:39:26.106833",
     "status": "completed"
    },
    "tags": []
   },
   "source": [
    "#### Which company is the most common video game publisher?"
   ]
  },
  {
   "cell_type": "code",
   "execution_count": 3,
   "id": "b353e7d0",
   "metadata": {
    "execution": {
     "iopub.execute_input": "2023-04-28T04:39:26.119704Z",
     "iopub.status.busy": "2023-04-28T04:39:26.119313Z",
     "iopub.status.idle": "2023-04-28T04:39:26.127956Z",
     "shell.execute_reply": "2023-04-28T04:39:26.126685Z"
    },
    "papermill": {
     "duration": 0.016657,
     "end_time": "2023-04-28T04:39:26.130582",
     "exception": false,
     "start_time": "2023-04-28T04:39:26.113925",
     "status": "completed"
    },
    "tags": []
   },
   "outputs": [
    {
     "name": "stdout",
     "output_type": "stream",
     "text": [
      "The most common publisher, with 1351 titles, is Electronic Arts.\n"
     ]
    }
   ],
   "source": [
    "publisher_counts = df['Publisher'].value_counts().sort_values(ascending=False)\n",
    "print(\"The most common publisher, with\", publisher_counts.iloc[0], \"titles, is\", publisher_counts.index[0] + \".\")"
   ]
  },
  {
   "cell_type": "markdown",
   "id": "dfb9f141",
   "metadata": {
    "papermill": {
     "duration": 0.003422,
     "end_time": "2023-04-28T04:39:26.137792",
     "exception": false,
     "start_time": "2023-04-28T04:39:26.134370",
     "status": "completed"
    },
    "tags": []
   },
   "source": [
    "#### What’s the most common platform?"
   ]
  },
  {
   "cell_type": "code",
   "execution_count": 4,
   "id": "70fdeb60",
   "metadata": {
    "execution": {
     "iopub.execute_input": "2023-04-28T04:39:26.147106Z",
     "iopub.status.busy": "2023-04-28T04:39:26.146600Z",
     "iopub.status.idle": "2023-04-28T04:39:26.155172Z",
     "shell.execute_reply": "2023-04-28T04:39:26.153948Z"
    },
    "papermill": {
     "duration": 0.016603,
     "end_time": "2023-04-28T04:39:26.158062",
     "exception": false,
     "start_time": "2023-04-28T04:39:26.141459",
     "status": "completed"
    },
    "tags": []
   },
   "outputs": [
    {
     "name": "stdout",
     "output_type": "stream",
     "text": [
      "The most common platform, with 2163 titles, is DS.\n"
     ]
    }
   ],
   "source": [
    "platform_counts = df['Platform'].value_counts().sort_values(ascending=False)\n",
    "print(\"The most common platform, with\", platform_counts.iloc[0], \"titles, is\", platform_counts.index[0] + \".\")"
   ]
  },
  {
   "cell_type": "markdown",
   "id": "1b0f0902",
   "metadata": {
    "papermill": {
     "duration": 0.003587,
     "end_time": "2023-04-28T04:39:26.165542",
     "exception": false,
     "start_time": "2023-04-28T04:39:26.161955",
     "status": "completed"
    },
    "tags": []
   },
   "source": [
    "#### What about the most common genre?"
   ]
  },
  {
   "cell_type": "code",
   "execution_count": 5,
   "id": "22ea049c",
   "metadata": {
    "execution": {
     "iopub.execute_input": "2023-04-28T04:39:26.175641Z",
     "iopub.status.busy": "2023-04-28T04:39:26.174511Z",
     "iopub.status.idle": "2023-04-28T04:39:26.183949Z",
     "shell.execute_reply": "2023-04-28T04:39:26.182797Z"
    },
    "papermill": {
     "duration": 0.01723,
     "end_time": "2023-04-28T04:39:26.186548",
     "exception": false,
     "start_time": "2023-04-28T04:39:26.169318",
     "status": "completed"
    },
    "tags": []
   },
   "outputs": [
    {
     "name": "stdout",
     "output_type": "stream",
     "text": [
      "The most common genre, with 3316 titles, is Action.\n"
     ]
    }
   ],
   "source": [
    "genre_counts = df['Genre'].value_counts().sort_values(ascending=False)\n",
    "print(\"The most common genre, with\", genre_counts.iloc[0], \"titles, is\", genre_counts.index[0] + \".\")"
   ]
  },
  {
   "cell_type": "markdown",
   "id": "b807560e",
   "metadata": {
    "papermill": {
     "duration": 0.003608,
     "end_time": "2023-04-28T04:39:26.194008",
     "exception": false,
     "start_time": "2023-04-28T04:39:26.190400",
     "status": "completed"
    },
    "tags": []
   },
   "source": [
    "#### What are the top 20 highest grossing games?"
   ]
  },
  {
   "cell_type": "code",
   "execution_count": 6,
   "id": "3a93c55d",
   "metadata": {
    "execution": {
     "iopub.execute_input": "2023-04-28T04:39:26.203998Z",
     "iopub.status.busy": "2023-04-28T04:39:26.203084Z",
     "iopub.status.idle": "2023-04-28T04:39:26.227728Z",
     "shell.execute_reply": "2023-04-28T04:39:26.226290Z"
    },
    "papermill": {
     "duration": 0.032764,
     "end_time": "2023-04-28T04:39:26.230550",
     "exception": false,
     "start_time": "2023-04-28T04:39:26.197786",
     "status": "completed"
    },
    "tags": []
   },
   "outputs": [
    {
     "name": "stdout",
     "output_type": "stream",
     "text": [
      "                                            Name Platform  Global_Sales\n",
      "0                                     Wii Sports      Wii         82.74\n",
      "1                              Super Mario Bros.      NES         40.24\n",
      "2                                 Mario Kart Wii      Wii         35.82\n",
      "3                              Wii Sports Resort      Wii         33.00\n",
      "4                       Pokemon Red/Pokemon Blue       GB         31.37\n",
      "5                                         Tetris       GB         30.26\n",
      "6                          New Super Mario Bros.       DS         30.01\n",
      "7                                       Wii Play      Wii         29.02\n",
      "8                      New Super Mario Bros. Wii      Wii         28.62\n",
      "9                                      Duck Hunt      NES         28.31\n",
      "10                                    Nintendogs       DS         24.76\n",
      "11                                 Mario Kart DS       DS         23.42\n",
      "12                   Pokemon Gold/Pokemon Silver       GB         23.10\n",
      "13                                       Wii Fit      Wii         22.72\n",
      "14                                  Wii Fit Plus      Wii         22.00\n",
      "15                            Kinect Adventures!     X360         21.82\n",
      "16                            Grand Theft Auto V      PS3         21.40\n",
      "17                 Grand Theft Auto: San Andreas      PS2         20.81\n",
      "18                             Super Mario World     SNES         20.61\n",
      "19  Brain Age: Train Your Brain in Minutes a Day       DS         20.22\n"
     ]
    }
   ],
   "source": [
    "top_20 = df[['Name', 'Platform', 'Global_Sales']].sort_values(by='Global_Sales', ascending=False).nlargest(20, 'Global_Sales')\n",
    "print(top_20)"
   ]
  }
 ],
 "metadata": {
  "kernelspec": {
   "display_name": "Python 3",
   "language": "python",
   "name": "python3"
  },
  "language_info": {
   "codemirror_mode": {
    "name": "ipython",
    "version": 3
   },
   "file_extension": ".py",
   "mimetype": "text/x-python",
   "name": "python",
   "nbconvert_exporter": "python",
   "pygments_lexer": "ipython3",
   "version": "3.7.12"
  },
  "papermill": {
   "default_parameters": {},
   "duration": 12.149079,
   "end_time": "2023-04-28T04:39:26.957320",
   "environment_variables": {},
   "exception": null,
   "input_path": "__notebook__.ipynb",
   "output_path": "__notebook__.ipynb",
   "parameters": {},
   "start_time": "2023-04-28T04:39:14.808241",
   "version": "2.4.0"
  }
 },
 "nbformat": 4,
 "nbformat_minor": 5
}
