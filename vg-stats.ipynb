{
 "cells": [
  {
   "cell_type": "markdown",
   "id": "a2a26061",
   "metadata": {
    "papermill": {
     "duration": 0.003787,
     "end_time": "2023-04-28T04:20:33.289037",
     "exception": false,
     "start_time": "2023-04-28T04:20:33.285250",
     "status": "completed"
    },
    "tags": []
   },
   "source": [
    "### Data Analysis with Pandas\n",
    "\n",
    "**Author**: [Manuch S.](https://github.com/mcsadri)  \n",
    "**Input**: [videogamesales](https://www.kaggle.com/datasets/gregorut/videogamesales): a dataset containing a list of video games with sales greater than 100,000 copies\n",
    "\n",
    "#### Overview\n",
    "\n",
    "An introduction to Data Science via an exploration of the tools to investigate a dataset.\n",
    "\n",
    "#### Feature Tasks and Requirements\n",
    "\n",
    "- [ ] In the vg-stats notebook answer the following questions/do the following tasks. Note that the numbers quoted for sales are in the millions, and apply only for those games with over 10,000 sales.:\n",
    "    - [ ] Which company is the most common video game publisher?\n",
    "    - [ ] What’s the most common platform?\n",
    "    - [ ] What about the most common genre?\n",
    "    - [ ] What are the top 20 highest grossing games?\n",
    "    - [ ] For North American video game sales, what’s the median?\n",
    "        - [ ] Provide a secondary output showing ten games surrounding the median sales output.\n",
    "        - [ ] Assume that games with same median value are sorted in descending order.\n",
    "    - [ ] For the top-selling game of all time, how many standard deviations above/below the mean are its sales for North America?\n",
    "    - [ ] The Nintendo Wii seems to have outdone itself with games. How does its average number of sales compare with all of the other platforms?\n",
    "    - [ ] Come up with 3 more questions that can be answered with this data set.\n",
    "    - [ ] When you’re done answering all of the questions for each data set, clean up your notebooks leaving only cells that contain relevant data and calculations. Then restart and run your notebook so that the cell numbering is sequential from top to bottom.\n",
    "\n",
    "#### UAT\n",
    "\n",
    "No tests are required. But all questions in **Feature Tasks and Requirements** must be clearly answered in your notebook."
   ]
  },
  {
   "cell_type": "code",
   "execution_count": 1,
   "id": "b3d50a81",
   "metadata": {
    "_cell_guid": "b1076dfc-b9ad-4769-8c92-a6c4dae69d19",
    "_uuid": "8f2839f25d086af736a60e9eeb907d3b93b6e0e5",
    "execution": {
     "iopub.execute_input": "2023-04-28T04:20:33.296525Z",
     "iopub.status.busy": "2023-04-28T04:20:33.296036Z",
     "iopub.status.idle": "2023-04-28T04:20:33.317693Z",
     "shell.execute_reply": "2023-04-28T04:20:33.316161Z"
    },
    "papermill": {
     "duration": 0.028394,
     "end_time": "2023-04-28T04:20:33.320380",
     "exception": false,
     "start_time": "2023-04-28T04:20:33.291986",
     "status": "completed"
    },
    "tags": []
   },
   "outputs": [
    {
     "name": "stdout",
     "output_type": "stream",
     "text": [
      "/kaggle/input/videogamesales/vgsales.csv\n"
     ]
    }
   ],
   "source": [
    "# This Python 3 environment comes with many helpful analytics libraries installed\n",
    "# It is defined by the kaggle/python Docker image: https://github.com/kaggle/docker-python\n",
    "# For example, here's several helpful packages to load\n",
    "\n",
    "import numpy as np # linear algebra\n",
    "import pandas as pd # data processing, CSV file I/O (e.g. pd.read_csv)\n",
    "\n",
    "# Input data files are available in the read-only \"../input/\" directory\n",
    "# For example, running this (by clicking run or pressing Shift+Enter) will list all files under the input directory\n",
    "\n",
    "import os\n",
    "for dirname, _, filenames in os.walk('/kaggle/input'):\n",
    "    for filename in filenames:\n",
    "        print(os.path.join(dirname, filename))\n",
    "\n",
    "# You can write up to 20GB to the current directory (/kaggle/working/) that gets preserved as output when you create a version using \"Save & Run All\" \n",
    "# You can also write temporary files to /kaggle/temp/, but they won't be saved outside of the current session"
   ]
  },
  {
   "cell_type": "markdown",
   "id": "65771434",
   "metadata": {
    "papermill": {
     "duration": 0.002554,
     "end_time": "2023-04-28T04:20:33.325895",
     "exception": false,
     "start_time": "2023-04-28T04:20:33.323341",
     "status": "completed"
    },
    "tags": []
   },
   "source": [
    "#### Read data file and get DataFrame information"
   ]
  },
  {
   "cell_type": "code",
   "execution_count": 2,
   "id": "72f92316",
   "metadata": {
    "execution": {
     "iopub.execute_input": "2023-04-28T04:20:33.333089Z",
     "iopub.status.busy": "2023-04-28T04:20:33.332697Z",
     "iopub.status.idle": "2023-04-28T04:20:33.434249Z",
     "shell.execute_reply": "2023-04-28T04:20:33.432732Z"
    },
    "papermill": {
     "duration": 0.108587,
     "end_time": "2023-04-28T04:20:33.437141",
     "exception": false,
     "start_time": "2023-04-28T04:20:33.328554",
     "status": "completed"
    },
    "tags": []
   },
   "outputs": [
    {
     "name": "stdout",
     "output_type": "stream",
     "text": [
      "<class 'pandas.core.frame.DataFrame'>\n",
      "RangeIndex: 16598 entries, 0 to 16597\n",
      "Data columns (total 11 columns):\n",
      " #   Column        Non-Null Count  Dtype  \n",
      "---  ------        --------------  -----  \n",
      " 0   Rank          16598 non-null  int64  \n",
      " 1   Name          16598 non-null  object \n",
      " 2   Platform      16598 non-null  object \n",
      " 3   Year          16327 non-null  float64\n",
      " 4   Genre         16598 non-null  object \n",
      " 5   Publisher     16540 non-null  object \n",
      " 6   NA_Sales      16598 non-null  float64\n",
      " 7   EU_Sales      16598 non-null  float64\n",
      " 8   JP_Sales      16598 non-null  float64\n",
      " 9   Other_Sales   16598 non-null  float64\n",
      " 10  Global_Sales  16598 non-null  float64\n",
      "dtypes: float64(6), int64(1), object(4)\n",
      "memory usage: 1.4+ MB\n"
     ]
    }
   ],
   "source": [
    "df = pd.read_csv('/kaggle/input/videogamesales/vgsales.csv')\n",
    "df.info()"
   ]
  },
  {
   "cell_type": "markdown",
   "id": "2092c9d1",
   "metadata": {
    "papermill": {
     "duration": 0.002629,
     "end_time": "2023-04-28T04:20:33.442964",
     "exception": false,
     "start_time": "2023-04-28T04:20:33.440335",
     "status": "completed"
    },
    "tags": []
   },
   "source": [
    "#### Which company is the most common video game publisher?"
   ]
  },
  {
   "cell_type": "code",
   "execution_count": 3,
   "id": "d2c519e3",
   "metadata": {
    "execution": {
     "iopub.execute_input": "2023-04-28T04:20:33.450417Z",
     "iopub.status.busy": "2023-04-28T04:20:33.449965Z",
     "iopub.status.idle": "2023-04-28T04:20:33.459400Z",
     "shell.execute_reply": "2023-04-28T04:20:33.458207Z"
    },
    "papermill": {
     "duration": 0.015847,
     "end_time": "2023-04-28T04:20:33.461634",
     "exception": false,
     "start_time": "2023-04-28T04:20:33.445787",
     "status": "completed"
    },
    "tags": []
   },
   "outputs": [
    {
     "name": "stdout",
     "output_type": "stream",
     "text": [
      "The most common publisher, with 1351 titles, is Electronic Arts .\n"
     ]
    }
   ],
   "source": [
    "publisher_counts = df['Publisher'].value_counts().sort_values(ascending=False)\n",
    "print(\"The most common publisher, with\", publisher_counts.iloc[0], \"titles, is\", publisher_counts.index[0], \".\")"
   ]
  },
  {
   "cell_type": "markdown",
   "id": "829b6089",
   "metadata": {
    "papermill": {
     "duration": 0.002614,
     "end_time": "2023-04-28T04:20:33.467224",
     "exception": false,
     "start_time": "2023-04-28T04:20:33.464610",
     "status": "completed"
    },
    "tags": []
   },
   "source": [
    "#### What’s the most common platform?"
   ]
  },
  {
   "cell_type": "code",
   "execution_count": 4,
   "id": "dc2ac543",
   "metadata": {
    "execution": {
     "iopub.execute_input": "2023-04-28T04:20:33.475356Z",
     "iopub.status.busy": "2023-04-28T04:20:33.474226Z",
     "iopub.status.idle": "2023-04-28T04:20:33.486089Z",
     "shell.execute_reply": "2023-04-28T04:20:33.484726Z"
    },
    "papermill": {
     "duration": 0.018371,
     "end_time": "2023-04-28T04:20:33.488392",
     "exception": false,
     "start_time": "2023-04-28T04:20:33.470021",
     "status": "completed"
    },
    "tags": []
   },
   "outputs": [
    {
     "data": {
      "text/plain": [
       "DS    2163\n",
       "Name: Platform, dtype: int64"
      ]
     },
     "execution_count": 4,
     "metadata": {},
     "output_type": "execute_result"
    }
   ],
   "source": [
    "publisher_counts = df['Platform'].value_counts().sort_values(ascending=False)\n",
    "publisher_counts.head(1)"
   ]
  }
 ],
 "metadata": {
  "kernelspec": {
   "display_name": "Python 3",
   "language": "python",
   "name": "python3"
  },
  "language_info": {
   "codemirror_mode": {
    "name": "ipython",
    "version": 3
   },
   "file_extension": ".py",
   "mimetype": "text/x-python",
   "name": "python",
   "nbconvert_exporter": "python",
   "pygments_lexer": "ipython3",
   "version": "3.7.12"
  },
  "papermill": {
   "default_parameters": {},
   "duration": 11.075966,
   "end_time": "2023-04-28T04:20:34.216736",
   "environment_variables": {},
   "exception": null,
   "input_path": "__notebook__.ipynb",
   "output_path": "__notebook__.ipynb",
   "parameters": {},
   "start_time": "2023-04-28T04:20:23.140770",
   "version": "2.4.0"
  }
 },
 "nbformat": 4,
 "nbformat_minor": 5
}
