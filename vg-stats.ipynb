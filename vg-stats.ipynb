{
 "cells": [
  {
   "cell_type": "markdown",
   "id": "dc12e929",
   "metadata": {
    "papermill": {
     "duration": 0.003539,
     "end_time": "2023-04-27T03:30:27.308626",
     "exception": false,
     "start_time": "2023-04-27T03:30:27.305087",
     "status": "completed"
    },
    "tags": []
   },
   "source": [
    "### Data Analysis with Pandas\n",
    "\n",
    "**Author**: [Manuch S.](https://github.com/mcsadri)  \n",
    "**Input**: [videogamesales](https://www.kaggle.com/datasets/gregorut/videogamesales): a dataset containing a list of video games with sales greater than 100,000 copies\n",
    "\n",
    "#### Overview\n",
    "\n",
    "An introduction to Data Science via an exploration of the tools to investigate a dataset.\n",
    "\n",
    "#### Feature Tasks and Requirements\n",
    "\n",
    "- [ ] In the vg-stats notebook answer the following questions/do the following tasks. Note that the numbers quoted for sales are in the millions, and apply only for those games with over 10,000 sales.:\n",
    "    - [ ] Which company is the most common video game publisher?\n",
    "    - [ ] What’s the most common platform?\n",
    "    - [ ] What about the most common genre?\n",
    "    - [ ] What are the top 20 highest grossing games?\n",
    "    - [ ] For North American video game sales, what’s the median?\n",
    "        - [ ] Provide a secondary output showing ten games surrounding the median sales output.\n",
    "        - [ ] Assume that games with same median value are sorted in descending order.\n",
    "    - [ ] For the top-selling game of all time, how many standard deviations above/below the mean are its sales for North America?\n",
    "    - [ ] The Nintendo Wii seems to have outdone itself with games. How does its average number of sales compare with all of the other platforms?\n",
    "    - [ ] Come up with 3 more questions that can be answered with this data set.\n",
    "    - [ ] When you’re done answering all of the questions for each data set, clean up your notebooks leaving only cells that contain relevant data and calculations. Then restart and run your notebook so that the cell numbering is sequential from top to bottom.\n",
    "\n",
    "#### UAT\n",
    "\n",
    "No tests are required. But all questions in **Feature Tasks and Requirements** must be clearly answered in your notebook."
   ]
  },
  {
   "cell_type": "code",
   "execution_count": 1,
   "id": "ee28675f",
   "metadata": {
    "_cell_guid": "b1076dfc-b9ad-4769-8c92-a6c4dae69d19",
    "_uuid": "8f2839f25d086af736a60e9eeb907d3b93b6e0e5",
    "execution": {
     "iopub.execute_input": "2023-04-27T03:30:27.315542Z",
     "iopub.status.busy": "2023-04-27T03:30:27.315031Z",
     "iopub.status.idle": "2023-04-27T03:30:27.336065Z",
     "shell.execute_reply": "2023-04-27T03:30:27.334672Z"
    },
    "papermill": {
     "duration": 0.02781,
     "end_time": "2023-04-27T03:30:27.339028",
     "exception": false,
     "start_time": "2023-04-27T03:30:27.311218",
     "status": "completed"
    },
    "tags": []
   },
   "outputs": [
    {
     "name": "stdout",
     "output_type": "stream",
     "text": [
      "/kaggle/input/videogamesales/vgsales.csv\n"
     ]
    }
   ],
   "source": [
    "# This Python 3 environment comes with many helpful analytics libraries installed\n",
    "# It is defined by the kaggle/python Docker image: https://github.com/kaggle/docker-python\n",
    "# For example, here's several helpful packages to load\n",
    "\n",
    "import numpy as np # linear algebra\n",
    "import pandas as pd # data processing, CSV file I/O (e.g. pd.read_csv)\n",
    "\n",
    "# Input data files are available in the read-only \"../input/\" directory\n",
    "# For example, running this (by clicking run or pressing Shift+Enter) will list all files under the input directory\n",
    "\n",
    "import os\n",
    "for dirname, _, filenames in os.walk('/kaggle/input'):\n",
    "    for filename in filenames:\n",
    "        print(os.path.join(dirname, filename))\n",
    "\n",
    "# You can write up to 20GB to the current directory (/kaggle/working/) that gets preserved as output when you create a version using \"Save & Run All\" \n",
    "# You can also write temporary files to /kaggle/temp/, but they won't be saved outside of the current session"
   ]
  },
  {
   "cell_type": "markdown",
   "id": "4075d40f",
   "metadata": {
    "papermill": {
     "duration": 0.002194,
     "end_time": "2023-04-27T03:30:27.344020",
     "exception": false,
     "start_time": "2023-04-27T03:30:27.341826",
     "status": "completed"
    },
    "tags": []
   },
   "source": [
    "#### Read data file and get list of columns"
   ]
  },
  {
   "cell_type": "code",
   "execution_count": 2,
   "id": "63558ac2",
   "metadata": {
    "execution": {
     "iopub.execute_input": "2023-04-27T03:30:27.350652Z",
     "iopub.status.busy": "2023-04-27T03:30:27.350218Z",
     "iopub.status.idle": "2023-04-27T03:30:27.421065Z",
     "shell.execute_reply": "2023-04-27T03:30:27.419686Z"
    },
    "papermill": {
     "duration": 0.077336,
     "end_time": "2023-04-27T03:30:27.423623",
     "exception": false,
     "start_time": "2023-04-27T03:30:27.346287",
     "status": "completed"
    },
    "tags": []
   },
   "outputs": [
    {
     "data": {
      "text/plain": [
       "Index(['Rank', 'Name', 'Platform', 'Year', 'Genre', 'Publisher', 'NA_Sales',\n",
       "       'EU_Sales', 'JP_Sales', 'Other_Sales', 'Global_Sales'],\n",
       "      dtype='object')"
      ]
     },
     "execution_count": 2,
     "metadata": {},
     "output_type": "execute_result"
    }
   ],
   "source": [
    "df = pd.read_csv('/kaggle/input/videogamesales/vgsales.csv')\n",
    "df.columns"
   ]
  },
  {
   "cell_type": "markdown",
   "id": "327cc990",
   "metadata": {
    "papermill": {
     "duration": 0.002645,
     "end_time": "2023-04-27T03:30:27.429049",
     "exception": false,
     "start_time": "2023-04-27T03:30:27.426404",
     "status": "completed"
    },
    "tags": []
   },
   "source": [
    "#### Which company is the most common video game publisher?"
   ]
  },
  {
   "cell_type": "code",
   "execution_count": 3,
   "id": "4b8a46fb",
   "metadata": {
    "execution": {
     "iopub.execute_input": "2023-04-27T03:30:27.436732Z",
     "iopub.status.busy": "2023-04-27T03:30:27.435476Z",
     "iopub.status.idle": "2023-04-27T03:30:27.455570Z",
     "shell.execute_reply": "2023-04-27T03:30:27.454454Z"
    },
    "papermill": {
     "duration": 0.026567,
     "end_time": "2023-04-27T03:30:27.458126",
     "exception": false,
     "start_time": "2023-04-27T03:30:27.431559",
     "status": "completed"
    },
    "tags": []
   },
   "outputs": [
    {
     "data": {
      "text/plain": [
       "Electronic Arts    1351\n",
       "Name: Publisher, dtype: int64"
      ]
     },
     "execution_count": 3,
     "metadata": {},
     "output_type": "execute_result"
    }
   ],
   "source": [
    "publisher_counts = df['Publisher'].value_counts().sort_values(ascending=False)\n",
    "publisher_counts.head(1)"
   ]
  }
 ],
 "metadata": {
  "kernelspec": {
   "display_name": "Python 3",
   "language": "python",
   "name": "python3"
  },
  "language_info": {
   "codemirror_mode": {
    "name": "ipython",
    "version": 3
   },
   "file_extension": ".py",
   "mimetype": "text/x-python",
   "name": "python",
   "nbconvert_exporter": "python",
   "pygments_lexer": "ipython3",
   "version": "3.7.12"
  },
  "papermill": {
   "default_parameters": {},
   "duration": 11.472952,
   "end_time": "2023-04-27T03:30:28.083628",
   "environment_variables": {},
   "exception": null,
   "input_path": "__notebook__.ipynb",
   "output_path": "__notebook__.ipynb",
   "parameters": {},
   "start_time": "2023-04-27T03:30:16.610676",
   "version": "2.4.0"
  }
 },
 "nbformat": 4,
 "nbformat_minor": 5
}
