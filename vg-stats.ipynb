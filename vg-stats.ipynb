{
 "cells": [
  {
   "cell_type": "markdown",
   "id": "7cf29146",
   "metadata": {
    "papermill": {
     "duration": 0.003075,
     "end_time": "2023-04-26T04:37:38.249794",
     "exception": false,
     "start_time": "2023-04-26T04:37:38.246719",
     "status": "completed"
    },
    "tags": []
   },
   "source": [
    "### Data Analysis with Pandas\n",
    "\n",
    "**Author**: [Manuch S.](https://github.com/mcsadri)  \n",
    "**Input**: [videogamesales](https://www.kaggle.com/datasets/gregorut/videogamesales): a dataset containing a list of video games with sales greater than 100,000 copies\n",
    "\n",
    "#### Overview\n",
    "\n",
    "An introduction to Data Science via an exploration of the tools to investigate a dataset.\n",
    "\n",
    "#### Feature Tasks and Requirements\n",
    "\n",
    "- [ ] In the vg-stats notebook answer the following questions/do the following tasks. Note that the numbers quoted for sales are in the millions, and apply only for those games with over 10,000 sales.:\n",
    "    - [ ] Which company is the most common video game publisher?\n",
    "    - [ ] What’s the most common platform?\n",
    "    - [ ] What about the most common genre?\n",
    "    - [ ] What are the top 20 highest grossing games?\n",
    "    - [ ] For North American video game sales, what’s the median?\n",
    "        - [ ] Provide a secondary output showing ten games surrounding the median sales output.\n",
    "        - [ ] Assume that games with same median value are sorted in descending order.\n",
    "    - [ ] For the top-selling game of all time, how many standard deviations above/below the mean are its sales for North America?\n",
    "    - [ ] The Nintendo Wii seems to have outdone itself with games. How does its average number of sales compare with all of the other platforms?\n",
    "    - [ ] Come up with 3 more questions that can be answered with this data set.\n",
    "    - [ ] When you’re done answering all of the questions for each data set, clean up your notebooks leaving only cells that contain relevant data and calculations. Then restart and run your notebook so that the cell numbering is sequential from top to bottom.\n",
    "\n",
    "#### UAT\n",
    "\n",
    "No tests are required. But all questions in **Feature Tasks and Requirements** must be clearly answered in your notebook."
   ]
  },
  {
   "cell_type": "code",
   "execution_count": 1,
   "id": "0f2ac21a",
   "metadata": {
    "_cell_guid": "b1076dfc-b9ad-4769-8c92-a6c4dae69d19",
    "_uuid": "8f2839f25d086af736a60e9eeb907d3b93b6e0e5",
    "execution": {
     "iopub.execute_input": "2023-04-26T04:37:38.256328Z",
     "iopub.status.busy": "2023-04-26T04:37:38.255803Z",
     "iopub.status.idle": "2023-04-26T04:37:38.275804Z",
     "shell.execute_reply": "2023-04-26T04:37:38.274379Z"
    },
    "papermill": {
     "duration": 0.027323,
     "end_time": "2023-04-26T04:37:38.279546",
     "exception": false,
     "start_time": "2023-04-26T04:37:38.252223",
     "status": "completed"
    },
    "tags": []
   },
   "outputs": [
    {
     "name": "stdout",
     "output_type": "stream",
     "text": [
      "/kaggle/input/videogamesales/vgsales.csv\n"
     ]
    }
   ],
   "source": [
    "# This Python 3 environment comes with many helpful analytics libraries installed\n",
    "# It is defined by the kaggle/python Docker image: https://github.com/kaggle/docker-python\n",
    "# For example, here's several helpful packages to load\n",
    "\n",
    "import numpy as np # linear algebra\n",
    "import pandas as pd # data processing, CSV file I/O (e.g. pd.read_csv)\n",
    "\n",
    "# Input data files are available in the read-only \"../input/\" directory\n",
    "# For example, running this (by clicking run or pressing Shift+Enter) will list all files under the input directory\n",
    "\n",
    "import os\n",
    "for dirname, _, filenames in os.walk('/kaggle/input'):\n",
    "    for filename in filenames:\n",
    "        print(os.path.join(dirname, filename))\n",
    "\n",
    "# You can write up to 20GB to the current directory (/kaggle/working/) that gets preserved as output when you create a version using \"Save & Run All\" \n",
    "# You can also write temporary files to /kaggle/temp/, but they won't be saved outside of the current session"
   ]
  },
  {
   "cell_type": "code",
   "execution_count": null,
   "id": "ebb2a805",
   "metadata": {
    "papermill": {
     "duration": 0.001727,
     "end_time": "2023-04-26T04:37:38.283548",
     "exception": false,
     "start_time": "2023-04-26T04:37:38.281821",
     "status": "completed"
    },
    "tags": []
   },
   "outputs": [],
   "source": []
  }
 ],
 "metadata": {
  "kernelspec": {
   "display_name": "Python 3",
   "language": "python",
   "name": "python3"
  },
  "language_info": {
   "codemirror_mode": {
    "name": "ipython",
    "version": 3
   },
   "file_extension": ".py",
   "mimetype": "text/x-python",
   "name": "python",
   "nbconvert_exporter": "python",
   "pygments_lexer": "ipython3",
   "version": "3.7.12"
  },
  "papermill": {
   "default_parameters": {},
   "duration": 13.368764,
   "end_time": "2023-04-26T04:37:39.311324",
   "environment_variables": {},
   "exception": null,
   "input_path": "__notebook__.ipynb",
   "output_path": "__notebook__.ipynb",
   "parameters": {},
   "start_time": "2023-04-26T04:37:25.942560",
   "version": "2.4.0"
  }
 },
 "nbformat": 4,
 "nbformat_minor": 5
}
