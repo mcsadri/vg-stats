{
 "cells": [
  {
   "cell_type": "markdown",
   "id": "4becc1d1",
   "metadata": {
    "papermill": {
     "duration": 0.005132,
     "end_time": "2023-04-28T05:20:58.699599",
     "exception": false,
     "start_time": "2023-04-28T05:20:58.694467",
     "status": "completed"
    },
    "tags": []
   },
   "source": [
    "### Data Analysis with Pandas\n",
    "\n",
    "**Author**: [Manuch S.](https://github.com/mcsadri)  \n",
    "**Input**: [videogamesales](https://www.kaggle.com/datasets/gregorut/videogamesales): a dataset containing a list of video games with sales greater than 100,000 copies\n",
    "\n",
    "#### Overview\n",
    "\n",
    "An introduction to Data Science via an exploration of the tools to investigate a dataset.\n",
    "\n",
    "#### Feature Tasks and Requirements\n",
    "\n",
    "- [ ] In the vg-stats notebook answer the following questions/do the following tasks. Note that the numbers quoted for sales are in the millions, and apply only for those games with over 10,000 sales.:\n",
    "    - [ ] Which company is the most common video game publisher?\n",
    "    - [ ] What’s the most common platform?\n",
    "    - [ ] What about the most common genre?\n",
    "    - [ ] What are the top 20 highest grossing games?\n",
    "    - [ ] For North American video game sales, what’s the median?\n",
    "        - [ ] Provide a secondary output showing ten games surrounding the median sales output.\n",
    "        - [ ] Assume that games with same median value are sorted in descending order.\n",
    "    - [ ] For the top-selling game of all time, how many standard deviations above/below the mean are its sales for North America?\n",
    "    - [ ] The Nintendo Wii seems to have outdone itself with games. How does its average number of sales compare with all of the other platforms?\n",
    "    - [ ] Come up with 3 more questions that can be answered with this data set.\n",
    "    - [ ] When you’re done answering all of the questions for each data set, clean up your notebooks leaving only cells that contain relevant data and calculations. Then restart and run your notebook so that the cell numbering is sequential from top to bottom.\n",
    "\n",
    "#### UAT\n",
    "\n",
    "No tests are required. But all questions in **Feature Tasks and Requirements** must be clearly answered in your notebook."
   ]
  },
  {
   "cell_type": "code",
   "execution_count": 1,
   "id": "e5f9f66b",
   "metadata": {
    "_cell_guid": "b1076dfc-b9ad-4769-8c92-a6c4dae69d19",
    "_uuid": "8f2839f25d086af736a60e9eeb907d3b93b6e0e5",
    "execution": {
     "iopub.execute_input": "2023-04-28T05:20:58.710034Z",
     "iopub.status.busy": "2023-04-28T05:20:58.708819Z",
     "iopub.status.idle": "2023-04-28T05:20:58.728797Z",
     "shell.execute_reply": "2023-04-28T05:20:58.727506Z"
    },
    "papermill": {
     "duration": 0.028093,
     "end_time": "2023-04-28T05:20:58.731723",
     "exception": false,
     "start_time": "2023-04-28T05:20:58.703630",
     "status": "completed"
    },
    "tags": []
   },
   "outputs": [
    {
     "name": "stdout",
     "output_type": "stream",
     "text": [
      "/kaggle/input/videogamesales/vgsales.csv\n"
     ]
    }
   ],
   "source": [
    "# This Python 3 environment comes with many helpful analytics libraries installed\n",
    "# It is defined by the kaggle/python Docker image: https://github.com/kaggle/docker-python\n",
    "# For example, here's several helpful packages to load\n",
    "\n",
    "import numpy as np # linear algebra\n",
    "import pandas as pd # data processing, CSV file I/O (e.g. pd.read_csv)\n",
    "\n",
    "# Input data files are available in the read-only \"../input/\" directory\n",
    "# For example, running this (by clicking run or pressing Shift+Enter) will list all files under the input directory\n",
    "\n",
    "import os\n",
    "for dirname, _, filenames in os.walk('/kaggle/input'):\n",
    "    for filename in filenames:\n",
    "        print(os.path.join(dirname, filename))\n",
    "\n",
    "# You can write up to 20GB to the current directory (/kaggle/working/) that gets preserved as output when you create a version using \"Save & Run All\" \n",
    "# You can also write temporary files to /kaggle/temp/, but they won't be saved outside of the current session"
   ]
  },
  {
   "cell_type": "markdown",
   "id": "3c0b129b",
   "metadata": {
    "papermill": {
     "duration": 0.003565,
     "end_time": "2023-04-28T05:20:58.739299",
     "exception": false,
     "start_time": "2023-04-28T05:20:58.735734",
     "status": "completed"
    },
    "tags": []
   },
   "source": [
    "#### Read data file and get DataFrame information"
   ]
  },
  {
   "cell_type": "code",
   "execution_count": 2,
   "id": "6cbb0a2b",
   "metadata": {
    "execution": {
     "iopub.execute_input": "2023-04-28T05:20:58.749083Z",
     "iopub.status.busy": "2023-04-28T05:20:58.748413Z",
     "iopub.status.idle": "2023-04-28T05:20:58.861619Z",
     "shell.execute_reply": "2023-04-28T05:20:58.860161Z"
    },
    "papermill": {
     "duration": 0.1226,
     "end_time": "2023-04-28T05:20:58.865637",
     "exception": false,
     "start_time": "2023-04-28T05:20:58.743037",
     "status": "completed"
    },
    "tags": []
   },
   "outputs": [
    {
     "name": "stdout",
     "output_type": "stream",
     "text": [
      "<class 'pandas.core.frame.DataFrame'>\n",
      "RangeIndex: 16598 entries, 0 to 16597\n",
      "Data columns (total 11 columns):\n",
      " #   Column        Non-Null Count  Dtype  \n",
      "---  ------        --------------  -----  \n",
      " 0   Rank          16598 non-null  int64  \n",
      " 1   Name          16598 non-null  object \n",
      " 2   Platform      16598 non-null  object \n",
      " 3   Year          16327 non-null  float64\n",
      " 4   Genre         16598 non-null  object \n",
      " 5   Publisher     16540 non-null  object \n",
      " 6   NA_Sales      16598 non-null  float64\n",
      " 7   EU_Sales      16598 non-null  float64\n",
      " 8   JP_Sales      16598 non-null  float64\n",
      " 9   Other_Sales   16598 non-null  float64\n",
      " 10  Global_Sales  16598 non-null  float64\n",
      "dtypes: float64(6), int64(1), object(4)\n",
      "memory usage: 1.4+ MB\n"
     ]
    }
   ],
   "source": [
    "df = pd.read_csv('/kaggle/input/videogamesales/vgsales.csv')\n",
    "df.info()"
   ]
  },
  {
   "cell_type": "markdown",
   "id": "bf640ee7",
   "metadata": {
    "papermill": {
     "duration": 0.004768,
     "end_time": "2023-04-28T05:20:58.877536",
     "exception": false,
     "start_time": "2023-04-28T05:20:58.872768",
     "status": "completed"
    },
    "tags": []
   },
   "source": [
    "#### Which company is the most common video game publisher?"
   ]
  },
  {
   "cell_type": "code",
   "execution_count": 3,
   "id": "fed40dba",
   "metadata": {
    "execution": {
     "iopub.execute_input": "2023-04-28T05:20:58.887471Z",
     "iopub.status.busy": "2023-04-28T05:20:58.887027Z",
     "iopub.status.idle": "2023-04-28T05:20:58.896414Z",
     "shell.execute_reply": "2023-04-28T05:20:58.895164Z"
    },
    "papermill": {
     "duration": 0.017403,
     "end_time": "2023-04-28T05:20:58.898999",
     "exception": false,
     "start_time": "2023-04-28T05:20:58.881596",
     "status": "completed"
    },
    "tags": []
   },
   "outputs": [
    {
     "name": "stdout",
     "output_type": "stream",
     "text": [
      "The most common publisher, with 1351 titles, is Electronic Arts.\n"
     ]
    }
   ],
   "source": [
    "publisher_counts = df['Publisher'].value_counts().sort_values(ascending=False)\n",
    "print(\"The most common publisher, with\", publisher_counts.iloc[0], \"titles, is\", publisher_counts.index[0] + \".\")"
   ]
  },
  {
   "cell_type": "markdown",
   "id": "6ec88144",
   "metadata": {
    "papermill": {
     "duration": 0.003633,
     "end_time": "2023-04-28T05:20:58.906618",
     "exception": false,
     "start_time": "2023-04-28T05:20:58.902985",
     "status": "completed"
    },
    "tags": []
   },
   "source": [
    "#### What’s the most common platform?"
   ]
  },
  {
   "cell_type": "code",
   "execution_count": 4,
   "id": "2b65103f",
   "metadata": {
    "execution": {
     "iopub.execute_input": "2023-04-28T05:20:58.916260Z",
     "iopub.status.busy": "2023-04-28T05:20:58.915853Z",
     "iopub.status.idle": "2023-04-28T05:20:58.923342Z",
     "shell.execute_reply": "2023-04-28T05:20:58.922219Z"
    },
    "papermill": {
     "duration": 0.015978,
     "end_time": "2023-04-28T05:20:58.926409",
     "exception": false,
     "start_time": "2023-04-28T05:20:58.910431",
     "status": "completed"
    },
    "tags": []
   },
   "outputs": [
    {
     "name": "stdout",
     "output_type": "stream",
     "text": [
      "The most common platform, with 2163 titles, is DS.\n"
     ]
    }
   ],
   "source": [
    "platform_counts = df['Platform'].value_counts().sort_values(ascending=False)\n",
    "print(\"The most common platform, with\", platform_counts.iloc[0], \"titles, is\", platform_counts.index[0] + \".\")"
   ]
  },
  {
   "cell_type": "markdown",
   "id": "cacd289d",
   "metadata": {
    "papermill": {
     "duration": 0.003664,
     "end_time": "2023-04-28T05:20:58.933988",
     "exception": false,
     "start_time": "2023-04-28T05:20:58.930324",
     "status": "completed"
    },
    "tags": []
   },
   "source": [
    "#### What about the most common genre?"
   ]
  },
  {
   "cell_type": "code",
   "execution_count": 5,
   "id": "1df31bc0",
   "metadata": {
    "execution": {
     "iopub.execute_input": "2023-04-28T05:20:58.943454Z",
     "iopub.status.busy": "2023-04-28T05:20:58.943062Z",
     "iopub.status.idle": "2023-04-28T05:20:58.950506Z",
     "shell.execute_reply": "2023-04-28T05:20:58.949410Z"
    },
    "papermill": {
     "duration": 0.015161,
     "end_time": "2023-04-28T05:20:58.952944",
     "exception": false,
     "start_time": "2023-04-28T05:20:58.937783",
     "status": "completed"
    },
    "tags": []
   },
   "outputs": [
    {
     "name": "stdout",
     "output_type": "stream",
     "text": [
      "The most common genre, with 3316 titles, is Action.\n"
     ]
    }
   ],
   "source": [
    "genre_counts = df['Genre'].value_counts().sort_values(ascending=False)\n",
    "print(\"The most common genre, with\", genre_counts.iloc[0], \"titles, is\", genre_counts.index[0] + \".\")"
   ]
  },
  {
   "cell_type": "markdown",
   "id": "ea7e4d9f",
   "metadata": {
    "papermill": {
     "duration": 0.003705,
     "end_time": "2023-04-28T05:20:58.960671",
     "exception": false,
     "start_time": "2023-04-28T05:20:58.956966",
     "status": "completed"
    },
    "tags": []
   },
   "source": [
    "#### What are the top 20 highest grossing games?"
   ]
  },
  {
   "cell_type": "code",
   "execution_count": 6,
   "id": "92b17913",
   "metadata": {
    "execution": {
     "iopub.execute_input": "2023-04-28T05:20:58.970721Z",
     "iopub.status.busy": "2023-04-28T05:20:58.969802Z",
     "iopub.status.idle": "2023-04-28T05:20:59.066890Z",
     "shell.execute_reply": "2023-04-28T05:20:59.066071Z"
    },
    "papermill": {
     "duration": 0.104661,
     "end_time": "2023-04-28T05:20:59.069241",
     "exception": false,
     "start_time": "2023-04-28T05:20:58.964580",
     "status": "completed"
    },
    "tags": []
   },
   "outputs": [
    {
     "name": "stdout",
     "output_type": "stream",
     "text": [
      "The top 20 highest grossing games are:\n"
     ]
    },
    {
     "data": {
      "text/html": [
       "<style type=\"text/css\">\n",
       "#T_16827_row0_col0, #T_16827_row0_col1, #T_16827_row0_col2, #T_16827_row1_col0, #T_16827_row1_col1, #T_16827_row1_col2, #T_16827_row2_col0, #T_16827_row2_col1, #T_16827_row2_col2, #T_16827_row3_col0, #T_16827_row3_col1, #T_16827_row3_col2, #T_16827_row4_col0, #T_16827_row4_col1, #T_16827_row4_col2, #T_16827_row5_col0, #T_16827_row5_col1, #T_16827_row5_col2, #T_16827_row6_col0, #T_16827_row6_col1, #T_16827_row6_col2, #T_16827_row7_col0, #T_16827_row7_col1, #T_16827_row7_col2, #T_16827_row8_col0, #T_16827_row8_col1, #T_16827_row8_col2, #T_16827_row9_col0, #T_16827_row9_col1, #T_16827_row9_col2, #T_16827_row10_col0, #T_16827_row10_col1, #T_16827_row10_col2, #T_16827_row11_col0, #T_16827_row11_col1, #T_16827_row11_col2, #T_16827_row12_col0, #T_16827_row12_col1, #T_16827_row12_col2, #T_16827_row13_col0, #T_16827_row13_col1, #T_16827_row13_col2, #T_16827_row14_col0, #T_16827_row14_col1, #T_16827_row14_col2, #T_16827_row15_col0, #T_16827_row15_col1, #T_16827_row15_col2, #T_16827_row16_col0, #T_16827_row16_col1, #T_16827_row16_col2, #T_16827_row17_col0, #T_16827_row17_col1, #T_16827_row17_col2, #T_16827_row18_col0, #T_16827_row18_col1, #T_16827_row18_col2, #T_16827_row19_col0, #T_16827_row19_col1, #T_16827_row19_col2 {\n",
       "  text-align: left;\n",
       "}\n",
       "</style>\n",
       "<table id=\"T_16827_\">\n",
       "  <thead>\n",
       "    <tr>\n",
       "      <th class=\"col_heading level0 col0\" >Name</th>\n",
       "      <th class=\"col_heading level0 col1\" >Platform</th>\n",
       "      <th class=\"col_heading level0 col2\" >Global_Sales</th>\n",
       "    </tr>\n",
       "  </thead>\n",
       "  <tbody>\n",
       "    <tr>\n",
       "      <td id=\"T_16827_row0_col0\" class=\"data row0 col0\" >Wii Sports</td>\n",
       "      <td id=\"T_16827_row0_col1\" class=\"data row0 col1\" >Wii</td>\n",
       "      <td id=\"T_16827_row0_col2\" class=\"data row0 col2\" >82.740000</td>\n",
       "    </tr>\n",
       "    <tr>\n",
       "      <td id=\"T_16827_row1_col0\" class=\"data row1 col0\" >Super Mario Bros.</td>\n",
       "      <td id=\"T_16827_row1_col1\" class=\"data row1 col1\" >NES</td>\n",
       "      <td id=\"T_16827_row1_col2\" class=\"data row1 col2\" >40.240000</td>\n",
       "    </tr>\n",
       "    <tr>\n",
       "      <td id=\"T_16827_row2_col0\" class=\"data row2 col0\" >Mario Kart Wii</td>\n",
       "      <td id=\"T_16827_row2_col1\" class=\"data row2 col1\" >Wii</td>\n",
       "      <td id=\"T_16827_row2_col2\" class=\"data row2 col2\" >35.820000</td>\n",
       "    </tr>\n",
       "    <tr>\n",
       "      <td id=\"T_16827_row3_col0\" class=\"data row3 col0\" >Wii Sports Resort</td>\n",
       "      <td id=\"T_16827_row3_col1\" class=\"data row3 col1\" >Wii</td>\n",
       "      <td id=\"T_16827_row3_col2\" class=\"data row3 col2\" >33.000000</td>\n",
       "    </tr>\n",
       "    <tr>\n",
       "      <td id=\"T_16827_row4_col0\" class=\"data row4 col0\" >Pokemon Red/Pokemon Blue</td>\n",
       "      <td id=\"T_16827_row4_col1\" class=\"data row4 col1\" >GB</td>\n",
       "      <td id=\"T_16827_row4_col2\" class=\"data row4 col2\" >31.370000</td>\n",
       "    </tr>\n",
       "    <tr>\n",
       "      <td id=\"T_16827_row5_col0\" class=\"data row5 col0\" >Tetris</td>\n",
       "      <td id=\"T_16827_row5_col1\" class=\"data row5 col1\" >GB</td>\n",
       "      <td id=\"T_16827_row5_col2\" class=\"data row5 col2\" >30.260000</td>\n",
       "    </tr>\n",
       "    <tr>\n",
       "      <td id=\"T_16827_row6_col0\" class=\"data row6 col0\" >New Super Mario Bros.</td>\n",
       "      <td id=\"T_16827_row6_col1\" class=\"data row6 col1\" >DS</td>\n",
       "      <td id=\"T_16827_row6_col2\" class=\"data row6 col2\" >30.010000</td>\n",
       "    </tr>\n",
       "    <tr>\n",
       "      <td id=\"T_16827_row7_col0\" class=\"data row7 col0\" >Wii Play</td>\n",
       "      <td id=\"T_16827_row7_col1\" class=\"data row7 col1\" >Wii</td>\n",
       "      <td id=\"T_16827_row7_col2\" class=\"data row7 col2\" >29.020000</td>\n",
       "    </tr>\n",
       "    <tr>\n",
       "      <td id=\"T_16827_row8_col0\" class=\"data row8 col0\" >New Super Mario Bros. Wii</td>\n",
       "      <td id=\"T_16827_row8_col1\" class=\"data row8 col1\" >Wii</td>\n",
       "      <td id=\"T_16827_row8_col2\" class=\"data row8 col2\" >28.620000</td>\n",
       "    </tr>\n",
       "    <tr>\n",
       "      <td id=\"T_16827_row9_col0\" class=\"data row9 col0\" >Duck Hunt</td>\n",
       "      <td id=\"T_16827_row9_col1\" class=\"data row9 col1\" >NES</td>\n",
       "      <td id=\"T_16827_row9_col2\" class=\"data row9 col2\" >28.310000</td>\n",
       "    </tr>\n",
       "    <tr>\n",
       "      <td id=\"T_16827_row10_col0\" class=\"data row10 col0\" >Nintendogs</td>\n",
       "      <td id=\"T_16827_row10_col1\" class=\"data row10 col1\" >DS</td>\n",
       "      <td id=\"T_16827_row10_col2\" class=\"data row10 col2\" >24.760000</td>\n",
       "    </tr>\n",
       "    <tr>\n",
       "      <td id=\"T_16827_row11_col0\" class=\"data row11 col0\" >Mario Kart DS</td>\n",
       "      <td id=\"T_16827_row11_col1\" class=\"data row11 col1\" >DS</td>\n",
       "      <td id=\"T_16827_row11_col2\" class=\"data row11 col2\" >23.420000</td>\n",
       "    </tr>\n",
       "    <tr>\n",
       "      <td id=\"T_16827_row12_col0\" class=\"data row12 col0\" >Pokemon Gold/Pokemon Silver</td>\n",
       "      <td id=\"T_16827_row12_col1\" class=\"data row12 col1\" >GB</td>\n",
       "      <td id=\"T_16827_row12_col2\" class=\"data row12 col2\" >23.100000</td>\n",
       "    </tr>\n",
       "    <tr>\n",
       "      <td id=\"T_16827_row13_col0\" class=\"data row13 col0\" >Wii Fit</td>\n",
       "      <td id=\"T_16827_row13_col1\" class=\"data row13 col1\" >Wii</td>\n",
       "      <td id=\"T_16827_row13_col2\" class=\"data row13 col2\" >22.720000</td>\n",
       "    </tr>\n",
       "    <tr>\n",
       "      <td id=\"T_16827_row14_col0\" class=\"data row14 col0\" >Wii Fit Plus</td>\n",
       "      <td id=\"T_16827_row14_col1\" class=\"data row14 col1\" >Wii</td>\n",
       "      <td id=\"T_16827_row14_col2\" class=\"data row14 col2\" >22.000000</td>\n",
       "    </tr>\n",
       "    <tr>\n",
       "      <td id=\"T_16827_row15_col0\" class=\"data row15 col0\" >Kinect Adventures!</td>\n",
       "      <td id=\"T_16827_row15_col1\" class=\"data row15 col1\" >X360</td>\n",
       "      <td id=\"T_16827_row15_col2\" class=\"data row15 col2\" >21.820000</td>\n",
       "    </tr>\n",
       "    <tr>\n",
       "      <td id=\"T_16827_row16_col0\" class=\"data row16 col0\" >Grand Theft Auto V</td>\n",
       "      <td id=\"T_16827_row16_col1\" class=\"data row16 col1\" >PS3</td>\n",
       "      <td id=\"T_16827_row16_col2\" class=\"data row16 col2\" >21.400000</td>\n",
       "    </tr>\n",
       "    <tr>\n",
       "      <td id=\"T_16827_row17_col0\" class=\"data row17 col0\" >Grand Theft Auto: San Andreas</td>\n",
       "      <td id=\"T_16827_row17_col1\" class=\"data row17 col1\" >PS2</td>\n",
       "      <td id=\"T_16827_row17_col2\" class=\"data row17 col2\" >20.810000</td>\n",
       "    </tr>\n",
       "    <tr>\n",
       "      <td id=\"T_16827_row18_col0\" class=\"data row18 col0\" >Super Mario World</td>\n",
       "      <td id=\"T_16827_row18_col1\" class=\"data row18 col1\" >SNES</td>\n",
       "      <td id=\"T_16827_row18_col2\" class=\"data row18 col2\" >20.610000</td>\n",
       "    </tr>\n",
       "    <tr>\n",
       "      <td id=\"T_16827_row19_col0\" class=\"data row19 col0\" >Brain Age: Train Your Brain in Minutes a Day</td>\n",
       "      <td id=\"T_16827_row19_col1\" class=\"data row19 col1\" >DS</td>\n",
       "      <td id=\"T_16827_row19_col2\" class=\"data row19 col2\" >20.220000</td>\n",
       "    </tr>\n",
       "  </tbody>\n",
       "</table>\n"
      ],
      "text/plain": [
       "<pandas.io.formats.style.Styler at 0x7fddb3134910>"
      ]
     },
     "metadata": {},
     "output_type": "display_data"
    }
   ],
   "source": [
    "top_20 = df[['Name', 'Platform', 'Global_Sales']].sort_values(by=['Global_Sales'], ascending=False).nlargest(20, 'Global_Sales')\n",
    "top_20 = top_20.style.set_properties(**{'text-align': 'left'}).hide_index()\n",
    "print(\"The top 20 highest grossing games are:\")\n",
    "display(top_20)"
   ]
  },
  {
   "cell_type": "markdown",
   "id": "0723f1e9",
   "metadata": {
    "papermill": {
     "duration": 0.004238,
     "end_time": "2023-04-28T05:20:59.077980",
     "exception": false,
     "start_time": "2023-04-28T05:20:59.073742",
     "status": "completed"
    },
    "tags": []
   },
   "source": [
    "#### For North American video game sales, what’s the median?\n",
    "- Provide a secondary output showing ten games surrounding the median sales output.\n",
    "- Assume that games with same median value are sorted in descending order."
   ]
  },
  {
   "cell_type": "code",
   "execution_count": 7,
   "id": "3d3da35e",
   "metadata": {
    "execution": {
     "iopub.execute_input": "2023-04-28T05:20:59.088043Z",
     "iopub.status.busy": "2023-04-28T05:20:59.087646Z",
     "iopub.status.idle": "2023-04-28T05:20:59.108576Z",
     "shell.execute_reply": "2023-04-28T05:20:59.107055Z"
    },
    "papermill": {
     "duration": 0.02877,
     "end_time": "2023-04-28T05:20:59.110933",
     "exception": false,
     "start_time": "2023-04-28T05:20:59.082163",
     "status": "completed"
    },
    "tags": []
   },
   "outputs": [
    {
     "name": "stdout",
     "output_type": "stream",
     "text": [
      "0.08\n",
      "                                                    Name  NA_Sales\n",
      "11289                                            Frantix      0.08\n",
      "10958                        Wonder World Amusement Park      0.08\n",
      "11390       Super Robot Taisen OG Saga: Endless Frontier      0.08\n",
      "10965                             Atari Classics Evolved      0.08\n",
      "8826                                    FIFA Soccer 2002      0.08\n",
      "...                                                  ...       ...\n",
      "3885                         International Track & Field      0.08\n",
      "6388                    Scooby-Doo! and the Spooky Swamp      0.08\n",
      "2067   Winning Eleven: Pro Evolution Soccer 2007 (All...      0.08\n",
      "7698                                 Shiren the Wanderer      0.08\n",
      "5715                                Bust-A-Move Universe      0.08\n",
      "\n",
      "[459 rows x 2 columns]\n"
     ]
    }
   ],
   "source": [
    "# na_median = df['NA_Sales'].median()\n",
    "# print(na_median)\n",
    "\n",
    "na_median_sort = df[['Name', 'NA_Sales']].sort_values(by=['NA_Sales'], ascending=False)\n",
    "na_median_sort = na_median_sort.reindex()\n",
    "na_median_val = na_median_sort['NA_Sales'].median()\n",
    "print(na_median_val)\n",
    "na_median_rows = na_median_sort.loc[df['NA_Sales'] == na_median_val]\n",
    "print(na_median_rows)\n",
    "# na_median_rows = na_median_rows\n",
    "# print(na_median_rows)\n"
   ]
  }
 ],
 "metadata": {
  "kernelspec": {
   "display_name": "Python 3",
   "language": "python",
   "name": "python3"
  },
  "language_info": {
   "codemirror_mode": {
    "name": "ipython",
    "version": 3
   },
   "file_extension": ".py",
   "mimetype": "text/x-python",
   "name": "python",
   "nbconvert_exporter": "python",
   "pygments_lexer": "ipython3",
   "version": "3.7.12"
  },
  "papermill": {
   "default_parameters": {},
   "duration": 10.832583,
   "end_time": "2023-04-28T05:20:59.736082",
   "environment_variables": {},
   "exception": null,
   "input_path": "__notebook__.ipynb",
   "output_path": "__notebook__.ipynb",
   "parameters": {},
   "start_time": "2023-04-28T05:20:48.903499",
   "version": "2.4.0"
  }
 },
 "nbformat": 4,
 "nbformat_minor": 5
}
